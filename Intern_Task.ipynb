{
 "cells": [
  {
   "cell_type": "markdown",
   "id": "ab0d0221-6527-432d-acf0-e093974eb801",
   "metadata": {},
   "source": [
    "pip install tavily-python huggingface-hub langgraph"
   ]
  },
  {
   "cell_type": "markdown",
   "id": "0ad838ea-e6ec-4a06-9999-02824a51fbc1",
   "metadata": {},
   "source": [
    "importing and fetcheing the api key"
   ]
  },
  {
   "cell_type": "code",
   "execution_count": 20,
   "id": "9f28526d-48de-43ff-afb5-159874e9d9e2",
   "metadata": {},
   "outputs": [],
   "source": [
    "from tavily import TavilyClient\n",
    "from huggingface_hub import InferenceClient\n",
    "from langgraph.graph import StateGraph\n",
    "from typing import TypedDict\n",
    "from dotenv import load_dotenv\n",
    "import os\n",
    "\n",
    "load_dotenv()\n",
    "\n",
    "client = TavilyClient(os.environ.get(\"TAVILY_API_KEY\"))\n",
    "hf_client = InferenceClient(..., token=os.environ.get(\"HF_API_TOKEN\"))"
   ]
  },
  {
   "cell_type": "markdown",
   "id": "5741e66a-ecd0-4e98-bb60-4acff8163034",
   "metadata": {},
   "source": [
    "Variables"
   ]
  },
  {
   "cell_type": "code",
   "execution_count": 21,
   "id": "d439974d-5af1-46ca-83d5-fdffb0648b47",
   "metadata": {},
   "outputs": [],
   "source": [
    "class ResearchState(TypedDict):\n",
    "    query: str\n",
    "    research_data: str\n",
    "    final_answer: str"
   ]
  },
  {
   "cell_type": "markdown",
   "id": "f14c9888-ce5a-4499-ab8e-3304e02c57cc",
   "metadata": {},
   "source": [
    "function for web crawler"
   ]
  },
  {
   "cell_type": "code",
   "execution_count": 22,
   "id": "afa1b5ca-ffe3-4b1e-9a28-c3472e3a9e39",
   "metadata": {},
   "outputs": [],
   "source": [
    "def research_agent(state):\n",
    "    \"\"\"Fetches relevant research data from Tavily and returns structured results.\"\"\"\n",
    "    if not isinstance(state, dict):\n",
    "        raise TypeError(f\"Expected dictionary, but got {type(state)}\")\n",
    "    if \"query\" not in state:\n",
    "        raise KeyError(\"State does not contain 'query' key.\")\n",
    "    query = state[\"query\"]\n",
    "    print(\"Researching query:\", query) \n",
    "\n",
    "# Fetch research data\n",
    "    response = client.search(query=query, max_results=5)\n",
    "\n",
    "# Ensure response is a dictionary\n",
    "    if not isinstance(response, dict):\n",
    "        raise TypeError(f\"Unexpected research data type: {type(response)}\")\n",
    "\n",
    "# Extract the actual search results\n",
    "    research_results = response.get(\"results\", [])\n",
    "\n",
    "    if not isinstance(research_results, list):  # Ensure it's a list\n",
    "        raise TypeError(f\"Expected 'results' to be a list, but got {type(research_results)}\")\n",
    "\n",
    "    if len(research_results) == 0:\n",
    "        print(\"No research data found.\")\n",
    "        return {\"query\": query, \"research_data\": [], \"final_answer\": \"\"}\n",
    "# extreacting related filds\n",
    "    structured_data = [\n",
    "        {\n",
    "            \"title\": item.get(\"title\", \"No Title\"),\n",
    "            \"url\": item.get(\"url\", \"No URL\"),\n",
    "            \"content\": item.get(\"content\", \"No Content\")[:500],  # Limit content length\n",
    "            \"score\": item.get(\"score\", 0)\n",
    "        }\n",
    "        for item in research_results\n",
    "    ]\n",
    "    # print(\"Data Collected:\", structured_data)\n",
    "    return {\"query\": query, \"research_data\": structured_data, \"final_answer\": \"\"}\n"
   ]
  },
  {
   "cell_type": "markdown",
   "id": "2aa722eb-6ed5-4bd0-8d64-808988e09168",
   "metadata": {},
   "source": [
    "organizing the data by providing the fetched information from the browser to ai"
   ]
  },
  {
   "cell_type": "code",
   "execution_count": 23,
   "id": "aeee96a1-719b-40b2-ad0c-3b698609a1f9",
   "metadata": {},
   "outputs": [],
   "source": [
    "def answer_drafter_agent(state: ResearchState) -> ResearchState:\n",
    "    \"\"\"Summarizes research data and generates a structured answer.\"\"\"\n",
    "    research_data = state[\"research_data\"]\n",
    "\n",
    "    if not research_data:\n",
    "        return {\"query\": state[\"query\"], \"research_data\": research_data, \"final_answer\": \"No data available.\"}\n",
    "    try:\n",
    "        key_points = \"\\n\".join([f\"- {item['title']}: {item['content'][:200]}...\" for item in research_data[:3]])  #only three results\n",
    "        prompt = f\"Based on the following research findings, write a concise, structured summary of the latest AI advancements in cybersecurity:\\n{key_points}\"\n",
    "        response = hf_client.text_generation(prompt, max_new_tokens=500, temperature=0.7)\n",
    "        return {\"query\": state[\"query\"], \"research_data\": research_data, \"final_answer\": response}\n",
    "    except Exception as e:\n",
    "        return {\"query\": state[\"query\"], \"research_data\": research_data, \"final_answer\": f\"Error: {e}\"}\n"
   ]
  },
  {
   "cell_type": "markdown",
   "id": "5ff38a5d-8713-4ad6-af5f-9acda20716c8",
   "metadata": {},
   "source": [
    "Creating the Multi agent system "
   ]
  },
  {
   "cell_type": "code",
   "execution_count": 24,
   "id": "25352fa5-d2a0-41c2-9c6e-8efbff9bb029",
   "metadata": {},
   "outputs": [],
   "source": [
    "graph = StateGraph(ResearchState)  # Pass state schema\n",
    "# Add nodes for each agent\n",
    "graph.add_node(\"research_agent\", research_agent)\n",
    "graph.add_node(\"answer_drafter_agent\", answer_drafter_agent)\n",
    "# Define edges (data flow between agents)\n",
    "graph.add_edge(\"research_agent\", \"answer_drafter_agent\")\n",
    "# Set entry point (where execution starts)\n",
    "graph.set_entry_point(\"research_agent\")\n",
    "executor = graph.compile()"
   ]
  },
  {
   "cell_type": "markdown",
   "id": "fa6a15e7-24a6-4f21-b5c2-06cec1af14e3",
   "metadata": {},
   "source": [
    "Example"
   ]
  },
  {
   "cell_type": "code",
   "execution_count": 25,
   "id": "8e94227d-2015-466c-8f21-db4d7c25cc9f",
   "metadata": {},
   "outputs": [
    {
     "name": "stdout",
     "output_type": "stream",
     "text": [
      "Researching query: Latest advancements in AI for cybersecurity\n",
      "\n",
      "🔍 Research Data:\n",
      " [{'title': 'AI and Cyber Security: Innovations & Challenges', 'url': 'https://www.esecurityplanet.com/trends/ai-and-cybersecurity-innovations-and-challenges/', 'content': 'Artificial intelligence in cybersecurity refers to applying AI technologies such as machine learning, deep learning, and data analytics to protect digital systems and networks from cyber threats. By identifying deviations from normal patterns, AI can detect potential security incidents before they escalate into serious threats. Security Information and Event Management (SIEM): AI advances SIEM by providing more accurate insights into security events and incidents, helping organizations respond s', 'score': 0.98583}, {'title': 'AI-driven fusion with cybersecurity: Exploring current trends, advanced ...', 'url': 'https://www.sciencedirect.com/science/article/pii/S1566253524007000', 'content': 'This comprehensive review explores current AI-driven cybersecurity methodologies, emphasizing the capabilities of AI technologies — such as machine learning, deep learning, and natural language processing (NLP) — to enhance threat detection, behavioral analysis, automated response systems, and threat intelligence. Among other reviews of AI-driven technologies, our paper reviews supervised and unsupervised machine learning, Deep learning, and natural language processing (NLP); technologies that c', 'score': 0.98217}, {'title': 'The future of cybersecurity and AI | Deloitte Insights', 'url': 'https://www2.deloitte.com/us/en/insights/focus/tech-trends/2022/future-of-cybersecurity-and-ai.html', 'content': 'As public 5G networks expand, organizations in government, automotive, manufacturing, mining, energy, and other sectors have also begun to invest in private 5G networks that meet enterprise requirements for lower latency, data privacy, and secure wireless connectivity. Properly trained AI can enable a more proactive security posture and promote cyber resilience, allowing organizations to stay in operation even when under attack and reducing the amount of time an adversary is in the environment. ', 'score': 0.97828}, {'title': 'Emerging cyber threats in 2023 from AI to quantum to data poisoning', 'url': 'https://www.csoonline.com/article/651125/emerging-cyber-threats-in-2023-from-ai-to-quantum-to-data-poisoning.html', 'content': 'This security threat will only grow as we witness new advances in AI methodology, and as AI expertise becomes more widely available,” assert the authors of a December 2022 report from the Finnish Transport and Communications Agency in conjunction with the Helsinki-headquartered cybersecurity company WithSecure. Others warn that other AI-enabled threats are on the horizon, saying they expect hackers will use deepfakes to mimic individuals — such as high-profile executives and civic leaders (whose', 'score': 0.97266}, {'title': 'Artificial intelligence for cybersecurity: Literature review and future ...', 'url': 'https://www.sciencedirect.com/science/article/pii/S1566253523001136', 'content': 'Artificial intelligence for cybersecurity: Literature review and future research directions - ScienceDirect Artificial intelligence (AI) is a powerful technology that helps cybersecurity teams automate repetitive tasks, accelerate threat detection and response, and improve the accuracy of their actions to strengthen the security posture against various security issues and cyberattacks. This article presents a systematic literature review and a detailed analysis of AI use cases for cybersecurity ', 'score': 0.96922}]\n",
      "\n",
      "📝 Final Structured Answer:\n",
      " Error: 'ellipsis' object has no attribute 'startswith'\n"
     ]
    }
   ],
   "source": [
    "query_input = \"Latest advancements in AI for cybersecurity\"\n",
    "\n",
    "initial_state = {\"query\": query_input, \"research_data\": \"\", \"final_answer\": \"\"}\n",
    "final_state = executor.invoke(initial_state)\n",
    "\n",
    "print(\"\\n🔍 Research Data:\\n\", final_state[\"research_data\"])\n",
    "print(\"\\n📝 Final Structured Answer:\\n\", final_state[\"final_answer\"])\n"
   ]
  },
  {
   "cell_type": "markdown",
   "id": "d6277479-0cc5-43ef-bd41-b38990977e0b",
   "metadata": {},
   "source": [
    "as Open ai and other good AI are not free and i searched for other AI to analyse the data so i got a free one and i used it but it dosent provide a proper analyzed answer as its limited to few words so this is all for now i can even do some alteration so that it can generate good analyzed data.\n",
    "(Also some times the server dosent respond mainly from falcon - hugging face)"
   ]
  }
 ],
 "metadata": {
  "kernelspec": {
   "display_name": "Python 3 (ipykernel)",
   "language": "python",
   "name": "python3"
  },
  "language_info": {
   "codemirror_mode": {
    "name": "ipython",
    "version": 3
   },
   "file_extension": ".py",
   "mimetype": "text/x-python",
   "name": "python",
   "nbconvert_exporter": "python",
   "pygments_lexer": "ipython3",
   "version": "3.12.9"
  }
 },
 "nbformat": 4,
 "nbformat_minor": 5
}
